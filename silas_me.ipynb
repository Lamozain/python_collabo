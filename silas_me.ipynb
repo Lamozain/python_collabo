{
 "cells": [
  {
   "cell_type": "markdown",
   "metadata": {},
   "source": [
    "# Python Collaboration Project\n",
    "## Project 1: Arithmetic Operator Function\n",
    "> \n",
    "> This function will take two arguments and will print out the sum, difference, product, division, and square of the arguments."
   ]
  },
  {
   "cell_type": "code",
   "execution_count": 1,
   "metadata": {},
   "outputs": [],
   "source": [
    "# The function declaration\n",
    "def arith(a,b):\n",
    "    \"\"\"\n",
    "    INTRODUCTION:\n",
    "    This is a function that takes two arguments and works on them producing their \n",
    "    sum, differences, product, divisions, and squares.\n",
    "    ARGUMENTS:\n",
    "    a and b\n",
    "    RETURNS:\n",
    "    a+b, a-b, b-a, a*b, a/b, b/a, a**2, and b**2 in order.\n",
    "    \"\"\"\n",
    "    print('The sum of the numbers is', a + b)\n",
    "    print('The difference of the numbers are', a - b, 'and', b-a)\n",
    "    print('The product of the numbers is', a * b)\n",
    "    print('The division result of the numbers are', a / b, 'and', b / a)\n",
    "    print('Finally, the square of the numbers are', a ** 2, 'and', b ** 2)"
   ]
  },
  {
   "cell_type": "code",
   "execution_count": 2,
   "metadata": {},
   "outputs": [
    {
     "name": "stdout",
     "output_type": "stream",
     "text": [
      "The sum of the numbers is 11\n",
      "The difference of the numbers are -1 and 1\n",
      "The product of the numbers is 30\n",
      "The division result of the numbers are 0.8333333333333334 and 1.2\n",
      "Finally, the square of the numbers are 25 and 36\n"
     ]
    }
   ],
   "source": [
    "# Sample function implementation\n",
    "arith(5,6)"
   ]
  },
  {
   "cell_type": "code",
   "execution_count": 3,
   "metadata": {},
   "outputs": [
    {
     "name": "stdout",
     "output_type": "stream",
     "text": [
      "Help on function arith in module __main__:\n",
      "\n",
      "arith(a, b)\n",
      "    INTRODUCTION:\n",
      "    This is a function that takes two arguments and works on them producing their \n",
      "    sum, differences, product, divisions, and squares.\n",
      "    ARGUMENTS:\n",
      "    a and b\n",
      "    RETURNS:\n",
      "    a+b, a-b, b-a, a*b, a/b, b/a, a**2, and b**2 in order.\n",
      "\n"
     ]
    }
   ],
   "source": [
    "# Checking the function documentation\n",
    "help(arith)"
   ]
  },
  {
   "cell_type": "code",
   "execution_count": 4,
   "metadata": {
    "scrolled": true
   },
   "outputs": [
    {
     "name": "stdout",
     "output_type": "stream",
     "text": [
      "# packages in environment at C:\\Users\\user\\Anaconda3:\n",
      "#\n",
      "# Name                    Version                   Build  Channel\n",
      "pandas                    1.0.2            py37h47e9c7a_0  \n"
     ]
    }
   ],
   "source": [
    "!conda list pandas"
   ]
  },
  {
   "cell_type": "markdown",
   "metadata": {},
   "source": [
    "## Project 2: Learners' score sheet\n",
    ">\n",
    "> This programme will get user input in the form of learners' names and scores and creates a csv file to store the data."
   ]
  },
  {
   "cell_type": "code",
   "execution_count": null,
   "metadata": {},
   "outputs": [],
   "source": [
    "# Importing the necessary libraries\n",
    "\"\"\"\n",
    "PROGRAMME NAME:\n",
    "score_sheet\n",
    "INTRODUCTION:\n",
    "This is a programme that allows teachers to enter their learners' information and have two score sheets generated.\n",
    "INPUTS BY USER:\n",
    "* subjects\n",
    "* names\n",
    "* scores for each entered subject\n",
    "OUTPUT\n",
    "* score_sheet1.csv\n",
    "* score_sheet2.csv\n",
    "DEPENDENCIES:\n",
    "numpy=1.18.1\n",
    "pandas=1.0.2\n",
    "POINT TO NOTE:\n",
    "This programme has many limitations that I hope to improve on.\n",
    "For suggestions and collaboration email shema.omofaye@gmail.com\n",
    "VERSION:\n",
    "This is version 1 (v1.0)\n",
    "\"\"\"\n",
    "import numpy as np\n",
    "import pandas as pd\n",
    "\n",
    "# Declaring the variables and getting user input simultaneously\n",
    "sub = input('Enter subjects separated by comma: ')\n",
    "# The variables are splitted to get a list\n",
    "subj = sub.split(',')\n",
    "name = input('Enter learners\\' names separated by comma: ')\n",
    "names = name.split(',')\n",
    "sub1 = input('Enter learners\\' scores in order separated by comma: ')\n",
    "score1 = sub1.split(',')\n",
    "# Converting the score string values to integer and appending them to a new list\n",
    "scores1 = []\n",
    "for i in score1:\n",
    "    i = int(i)\n",
    "    scores1.append(i)\n",
    "sub2 = input('Enter learners\\' scores in order separated by comma: ')\n",
    "score2 = sub2.split(',')\n",
    "scores2 = []\n",
    "for i in score2:\n",
    "    i = int(i)\n",
    "    scores2.append(i)\n",
    "# Collecting the scores into a single list\n",
    "sheet = [scores1, scores2]\n",
    "# Creating a dataframe from the inputs and printing it out\n",
    "df = pd.DataFrame(data=sheet, columns=names, index=subj)\n",
    "print(df.head())\n",
    "# Saving the data frame to a csv file\n",
    "df.to_csv('score_sheet1.csv')\n",
    "# Transposing the dataframe and storing it in another csv file\n",
    "m = df.transpose()\n",
    "m.to_csv('score_sheet2.csv')"
   ]
  },
  {
   "cell_type": "code",
   "execution_count": null,
   "metadata": {
    "scrolled": true
   },
   "outputs": [],
   "source": [
    "# Getting the rank of the class for the subjects\n",
    "df.sum().sort_values(ascending=False)"
   ]
  },
  {
   "cell_type": "code",
   "execution_count": null,
   "metadata": {},
   "outputs": [],
   "source": [
    "m.describe()"
   ]
  },
  {
   "cell_type": "code",
   "execution_count": null,
   "metadata": {},
   "outputs": [],
   "source": [
    "df"
   ]
  },
  {
   "cell_type": "code",
   "execution_count": null,
   "metadata": {},
   "outputs": [],
   "source": [
    "m"
   ]
  },
  {
   "cell_type": "markdown",
   "metadata": {},
   "source": [
    "## Project 3: Fun_infominer\n",
    ">\n",
    "> This programme interactively collects information from users and displays the information at the end of running."
   ]
  },
  {
   "cell_type": "code",
   "execution_count": null,
   "metadata": {},
   "outputs": [],
   "source": [
    "import os\n",
    "\n",
    "folder_name = 'infominer'\n",
    "if not os.path.exists(folder_name):\n",
    "    os.makedirs(folder_name)"
   ]
  },
  {
   "cell_type": "code",
   "execution_count": null,
   "metadata": {},
   "outputs": [],
   "source": [
    "name = input('Please enter your name: ')\n",
    "age = input('Please enter your age in words: ')\n",
    "# Struggling with spaces when writing to file\n",
    "name = name.pad((len(name)+2), fillchar=' ')\n",
    "age = age.pad((len(age)+2), fillchar=' ')\n",
    "#with open (os.path.join(folder_name, info)) as file:\n",
    "#    file.write(info)"
   ]
  },
  {
   "cell_type": "code",
   "execution_count": null,
   "metadata": {},
   "outputs": [],
   "source": [
    "my_file = open('info.txt', 'w')\n",
    "my_file.write(name)\n",
    "my_file.write(age)\n",
    "my_file.close()"
   ]
  },
  {
   "cell_type": "code",
   "execution_count": null,
   "metadata": {},
   "outputs": [],
   "source": [
    "import shutil\n",
    "shutil.move('info.txt', 'infominer')"
   ]
  },
  {
   "cell_type": "code",
   "execution_count": null,
   "metadata": {},
   "outputs": [],
   "source": [
    "help(str)"
   ]
  },
  {
   "cell_type": "code",
   "execution_count": null,
   "metadata": {},
   "outputs": [],
   "source": [
    "name"
   ]
  },
  {
   "cell_type": "code",
   "execution_count": null,
   "metadata": {},
   "outputs": [],
   "source": [
    "# Information collector\n",
    "# Declaring the function infominer()\n",
    "def infominer():\n",
    "    \"\"\"\n",
    "    This function when called asks for user infomation and prints it.\n",
    "    NAME: infominer.py\n",
    "    ARGUMENTS: Takes no argument\n",
    "    USER INPUT: name, age, street, city, residence, origin, country, school and anyother one information.\n",
    "    OUTPUT: a text file with the city as the address and a closing remark\n",
    "    VERSION: V0.0.2\n",
    "    \"\"\"\n",
    "    print('Good day friend, I need some of your information. Please indulge me for five minutes. Thanks.')\n",
    "    name = input('Please type your name starting with the family name: ')\n",
    "    age = int(input('Please enter your age in figures: '))\n",
    "    street = input('Type your street address here: ')\n",
    "    city = input('Which city are you living?: ')\n",
    "    residence = input('Which State do you reside?: ')\n",
    "    origin = input('What is your state of origin?: ')\n",
    "    country = input('In which country do you currently reside?: ')\n",
    "    school = input('What is the name of your school?')\n",
    "    other = input('Please tell me any other thing about yourself: ')\n",
    "    file = open(city+'.txt', 'w')\n",
    "    file.write('Your infomation are:' + '\\n' + name + '\\n' + str(age) +'\\n' + street + '\\n' + city + '\\n' + residence \n",
    "              + '\\n' + origin + '\\n' + country + '\\n' + school + '\\n' + other + '\\n')\n",
    "    file.close()\n",
    "    print('Your information has been saved to a text file using your city as the address. Thanks for your time. ')\n",
    "# Calling the function    \n",
    "infominer()"
   ]
  },
  {
   "cell_type": "code",
   "execution_count": null,
   "metadata": {},
   "outputs": [],
   "source": [
    "infominer()"
   ]
  },
  {
   "cell_type": "code",
   "execution_count": null,
   "metadata": {},
   "outputs": [],
   "source": [
    "help(infominer)"
   ]
  },
  {
   "cell_type": "markdown",
   "metadata": {},
   "source": [
    "## Project 4: Number guessing game\n",
    ">\n",
    "> This programme is designed to guess numbers interactively with the user."
   ]
  },
  {
   "cell_type": "code",
   "execution_count": 1,
   "metadata": {},
   "outputs": [
    {
     "name": "stdout",
     "output_type": "stream",
     "text": [
      "Guess a number between 1 and 10: 5\n",
      "Your guess is too low.\n",
      "Guess a number between 1 and 10: 4\n",
      "Your guess is too low.\n",
      "Guess a number between 1 and 10: 7\n",
      "Your guess is too low.\n",
      "There will be another time. The right guess would have been 9. Thanks.\n"
     ]
    }
   ],
   "source": [
    "import random\n",
    "comp_guess = random.randint(1,10)\n",
    "for guess_taken in range(1,4):\n",
    "    guess = int(input('Guess a number between 1 and 10: '))\n",
    "    if guess > comp_guess:\n",
    "        print('Your guess is too high.')\n",
    "    elif guess < comp_guess:\n",
    "        print('Your guess is too low.')\n",
    "    else:\n",
    "        break\n",
    "if guess == comp_guess:\n",
    "    print('You are on point. You guessed right after ' + str(guess_taken) + ' guesses.')\n",
    "else:\n",
    "    print('There will be another time. The right guess would have been ' + str(comp_guess) + '. Thanks.')\n",
    "    "
   ]
  },
  {
   "cell_type": "code",
   "execution_count": null,
   "metadata": {},
   "outputs": [],
   "source": []
  }
 ],
 "metadata": {
  "kernelspec": {
   "display_name": "Python 3",
   "language": "python",
   "name": "python3"
  },
  "language_info": {
   "codemirror_mode": {
    "name": "ipython",
    "version": 3
   },
   "file_extension": ".py",
   "mimetype": "text/x-python",
   "name": "python",
   "nbconvert_exporter": "python",
   "pygments_lexer": "ipython3",
   "version": "3.7.6"
  }
 },
 "nbformat": 4,
 "nbformat_minor": 4
}
