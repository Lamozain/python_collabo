{
 "cells": [
  {
   "cell_type": "markdown",
   "metadata": {},
   "source": [
    "# Python Collaboration Project\n",
    "## Project 1: Arithmetic Operator Function\n",
    "> \n",
    "> This function will take two arguments and will print out the sum, difference, product, division, and square of the arguments."
   ]
  },
  {
   "cell_type": "code",
   "execution_count": 1,
   "metadata": {},
   "outputs": [],
   "source": [
    "# The function declaration\n",
    "def arith(a,b):\n",
    "    \"\"\"\n",
    "    INTRODUCTION:\n",
    "    This is a function that takes two arguments and works on them producing their \n",
    "    sum, differences, product, divisions, and squares.\n",
    "    ARGUMENTS:\n",
    "    a and b\n",
    "    RETURNS:\n",
    "    a+b, a-b, b-a, a*b, a/b, b/a, a**2, and b**2 in order.\n",
    "    \"\"\"\n",
    "    print('The sum of the numbers is', a + b)\n",
    "    print('The difference of the numbers are', a - b, 'and', b-a)\n",
    "    print('The product of the numbers is', a * b)\n",
    "    print('The division result of the numbers are', a / b, 'and', b / a)\n",
    "    print('Finally, the square of the numbers are', a ** 2, 'and', b ** 2)"
   ]
  },
  {
   "cell_type": "code",
   "execution_count": 2,
   "metadata": {},
   "outputs": [
    {
     "name": "stdout",
     "output_type": "stream",
     "text": [
      "The sum of the numbers is 11\n",
      "The difference of the numbers are -1 and 1\n",
      "The product of the numbers is 30\n",
      "The division result of the numbers are 0.8333333333333334 and 1.2\n",
      "Finally, the square of the numbers are 25 and 36\n"
     ]
    }
   ],
   "source": [
    "# Sample function implementation\n",
    "arith(5,6)"
   ]
  },
  {
   "cell_type": "code",
   "execution_count": 3,
   "metadata": {},
   "outputs": [
    {
     "name": "stdout",
     "output_type": "stream",
     "text": [
      "Help on function arith in module __main__:\n",
      "\n",
      "arith(a, b)\n",
      "    INTRODUCTION:\n",
      "    This is a function that takes two arguments and works on them producing their \n",
      "    sum, differences, product, divisions, and squares.\n",
      "    ARGUMENTS:\n",
      "    a and b\n",
      "    RETURNS:\n",
      "    a+b, a-b, b-a, a*b, a/b, b/a, a**2, and b**2 in order.\n",
      "\n"
     ]
    }
   ],
   "source": [
    "# Checking the function documentation\n",
    "help(arith)"
   ]
  },
  {
   "cell_type": "code",
   "execution_count": 5,
   "metadata": {
    "scrolled": true
   },
   "outputs": [
    {
     "name": "stdout",
     "output_type": "stream",
     "text": [
      "# packages in environment at C:\\Users\\user\\Anaconda3:\n",
      "#\n",
      "# Name                    Version                   Build  Channel\n",
      "pandas                    1.0.2            py37h47e9c7a_0  \n"
     ]
    }
   ],
   "source": [
    "!conda list pandas"
   ]
  },
  {
   "cell_type": "markdown",
   "metadata": {},
   "source": [
    "## Project 2: Learners' score sheet\n",
    ">\n",
    "> This programme will get user input in the form of learners' names and scores and creates a csv file to store the data."
   ]
  },
  {
   "cell_type": "code",
   "execution_count": 6,
   "metadata": {},
   "outputs": [
    {
     "name": "stdout",
     "output_type": "stream",
     "text": [
      "Enter subjects separated by comma: Basic Science, Agric Science\n",
      "Enter learners' names separated by comma: Amos Omofaiye,Justina Bako,Grace Paul,Godiya Yunusa,Justina Bitrus\n",
      "Enter learners' scores in order separated by comma: 45,67,56,58,20\n",
      "Enter learners' scores in order separated by comma: 90,78,69,70,100\n",
      "                Amos Omofaiye  Justina Bako  Grace Paul  Godiya Yunusa  \\\n",
      "Basic Science              45            67          56             58   \n",
      " Agric Science             90            78          69             70   \n",
      "\n",
      "                Justina Bitrus  \n",
      "Basic Science               20  \n",
      " Agric Science             100  \n"
     ]
    }
   ],
   "source": [
    "# Importing the necessary libraries\n",
    "\"\"\"\n",
    "PROGRAMME NAME:\n",
    "score_sheet\n",
    "INTRODUCTION:\n",
    "This is a programme that allows teachers to enter their learners' information and have two score sheets generated.\n",
    "INPUTS BY USER:\n",
    "* subjects\n",
    "* names\n",
    "* scores for each entered subject\n",
    "OUTPUT\n",
    "* score_sheet1.csv\n",
    "* score_sheet2.csv\n",
    "DEPENDENCIES:\n",
    "numpy=1.18.1\n",
    "pandas=1.0.2\n",
    "POINT TO NOTE:\n",
    "This programme has many limitations that I hope to improve on.\n",
    "For suggestions and collaboration email shema.omofaye@gmail.com\n",
    "VERSION:\n",
    "This is version 1 (v1.0)\n",
    "\"\"\"\n",
    "import numpy as np\n",
    "import pandas as pd\n",
    "\n",
    "# Declaring the variables and getting user input simultaneously\n",
    "sub = input('Enter subjects separated by comma: ')\n",
    "# The variables are splitted to get a list\n",
    "subj = sub.split(',')\n",
    "name = input('Enter learners\\' names separated by comma: ')\n",
    "names = name.split(',')\n",
    "sub1 = input('Enter learners\\' scores in order separated by comma: ')\n",
    "score1 = sub1.split(',')\n",
    "# Converting the score string values to integer and appending them to a new list\n",
    "scores1 = []\n",
    "for i in score1:\n",
    "    i = int(i)\n",
    "    scores1.append(i)\n",
    "sub2 = input('Enter learners\\' scores in order separated by comma: ')\n",
    "score2 = sub2.split(',')\n",
    "scores2 = []\n",
    "for i in score2:\n",
    "    i = int(i)\n",
    "    scores2.append(i)\n",
    "# Collecting the scores into a single list\n",
    "sheet = [scores1, scores2]\n",
    "# Creating a dataframe from the inputs and printing it out\n",
    "df = pd.DataFrame(data=sheet, columns=names, index=subj)\n",
    "print(df.head())\n",
    "# Saving the data frame to a csv file\n",
    "df.to_csv('score_sheet1.csv')\n",
    "m = df.transpose()\n",
    "m.to_csv('score_sheet2.csv')"
   ]
  },
  {
   "cell_type": "code",
   "execution_count": 7,
   "metadata": {
    "scrolled": true
   },
   "outputs": [
    {
     "data": {
      "text/plain": [
       "Justina Bako      145\n",
       "Amos Omofaiye     135\n",
       "Godiya Yunusa     128\n",
       "Grace Paul        125\n",
       "Justina Bitrus    120\n",
       "dtype: int64"
      ]
     },
     "execution_count": 7,
     "metadata": {},
     "output_type": "execute_result"
    }
   ],
   "source": [
    "# Getting the rank of the class for the subjects\n",
    "df.sum().sort_values(ascending=False)"
   ]
  },
  {
   "cell_type": "code",
   "execution_count": 8,
   "metadata": {},
   "outputs": [
    {
     "data": {
      "text/html": [
       "<div>\n",
       "<style scoped>\n",
       "    .dataframe tbody tr th:only-of-type {\n",
       "        vertical-align: middle;\n",
       "    }\n",
       "\n",
       "    .dataframe tbody tr th {\n",
       "        vertical-align: top;\n",
       "    }\n",
       "\n",
       "    .dataframe thead th {\n",
       "        text-align: right;\n",
       "    }\n",
       "</style>\n",
       "<table border=\"1\" class=\"dataframe\">\n",
       "  <thead>\n",
       "    <tr style=\"text-align: right;\">\n",
       "      <th></th>\n",
       "      <th>Basic Science</th>\n",
       "      <th>Agric Science</th>\n",
       "    </tr>\n",
       "  </thead>\n",
       "  <tbody>\n",
       "    <tr>\n",
       "      <th>count</th>\n",
       "      <td>5.000000</td>\n",
       "      <td>5.000000</td>\n",
       "    </tr>\n",
       "    <tr>\n",
       "      <th>mean</th>\n",
       "      <td>49.200000</td>\n",
       "      <td>81.400000</td>\n",
       "    </tr>\n",
       "    <tr>\n",
       "      <th>std</th>\n",
       "      <td>18.102486</td>\n",
       "      <td>13.371612</td>\n",
       "    </tr>\n",
       "    <tr>\n",
       "      <th>min</th>\n",
       "      <td>20.000000</td>\n",
       "      <td>69.000000</td>\n",
       "    </tr>\n",
       "    <tr>\n",
       "      <th>25%</th>\n",
       "      <td>45.000000</td>\n",
       "      <td>70.000000</td>\n",
       "    </tr>\n",
       "    <tr>\n",
       "      <th>50%</th>\n",
       "      <td>56.000000</td>\n",
       "      <td>78.000000</td>\n",
       "    </tr>\n",
       "    <tr>\n",
       "      <th>75%</th>\n",
       "      <td>58.000000</td>\n",
       "      <td>90.000000</td>\n",
       "    </tr>\n",
       "    <tr>\n",
       "      <th>max</th>\n",
       "      <td>67.000000</td>\n",
       "      <td>100.000000</td>\n",
       "    </tr>\n",
       "  </tbody>\n",
       "</table>\n",
       "</div>"
      ],
      "text/plain": [
       "       Basic Science   Agric Science\n",
       "count       5.000000        5.000000\n",
       "mean       49.200000       81.400000\n",
       "std        18.102486       13.371612\n",
       "min        20.000000       69.000000\n",
       "25%        45.000000       70.000000\n",
       "50%        56.000000       78.000000\n",
       "75%        58.000000       90.000000\n",
       "max        67.000000      100.000000"
      ]
     },
     "execution_count": 8,
     "metadata": {},
     "output_type": "execute_result"
    }
   ],
   "source": [
    "m.describe()"
   ]
  },
  {
   "cell_type": "code",
   "execution_count": 11,
   "metadata": {},
   "outputs": [
    {
     "data": {
      "text/html": [
       "<div>\n",
       "<style scoped>\n",
       "    .dataframe tbody tr th:only-of-type {\n",
       "        vertical-align: middle;\n",
       "    }\n",
       "\n",
       "    .dataframe tbody tr th {\n",
       "        vertical-align: top;\n",
       "    }\n",
       "\n",
       "    .dataframe thead th {\n",
       "        text-align: right;\n",
       "    }\n",
       "</style>\n",
       "<table border=\"1\" class=\"dataframe\">\n",
       "  <thead>\n",
       "    <tr style=\"text-align: right;\">\n",
       "      <th></th>\n",
       "      <th>Amos Omofaiye</th>\n",
       "      <th>Justina Bako</th>\n",
       "      <th>Grace Paul</th>\n",
       "      <th>Godiya Yunusa</th>\n",
       "      <th>Justina Bitrus</th>\n",
       "    </tr>\n",
       "  </thead>\n",
       "  <tbody>\n",
       "    <tr>\n",
       "      <th>Basic Science</th>\n",
       "      <td>45</td>\n",
       "      <td>67</td>\n",
       "      <td>56</td>\n",
       "      <td>58</td>\n",
       "      <td>20</td>\n",
       "    </tr>\n",
       "    <tr>\n",
       "      <th>Agric Science</th>\n",
       "      <td>90</td>\n",
       "      <td>78</td>\n",
       "      <td>69</td>\n",
       "      <td>70</td>\n",
       "      <td>100</td>\n",
       "    </tr>\n",
       "  </tbody>\n",
       "</table>\n",
       "</div>"
      ],
      "text/plain": [
       "                Amos Omofaiye  Justina Bako  Grace Paul  Godiya Yunusa  \\\n",
       "Basic Science              45            67          56             58   \n",
       " Agric Science             90            78          69             70   \n",
       "\n",
       "                Justina Bitrus  \n",
       "Basic Science               20  \n",
       " Agric Science             100  "
      ]
     },
     "execution_count": 11,
     "metadata": {},
     "output_type": "execute_result"
    }
   ],
   "source": [
    "df"
   ]
  },
  {
   "cell_type": "code",
   "execution_count": 12,
   "metadata": {},
   "outputs": [
    {
     "data": {
      "text/html": [
       "<div>\n",
       "<style scoped>\n",
       "    .dataframe tbody tr th:only-of-type {\n",
       "        vertical-align: middle;\n",
       "    }\n",
       "\n",
       "    .dataframe tbody tr th {\n",
       "        vertical-align: top;\n",
       "    }\n",
       "\n",
       "    .dataframe thead th {\n",
       "        text-align: right;\n",
       "    }\n",
       "</style>\n",
       "<table border=\"1\" class=\"dataframe\">\n",
       "  <thead>\n",
       "    <tr style=\"text-align: right;\">\n",
       "      <th></th>\n",
       "      <th>Basic Science</th>\n",
       "      <th>Agric Science</th>\n",
       "    </tr>\n",
       "  </thead>\n",
       "  <tbody>\n",
       "    <tr>\n",
       "      <th>Amos Omofaiye</th>\n",
       "      <td>45</td>\n",
       "      <td>90</td>\n",
       "    </tr>\n",
       "    <tr>\n",
       "      <th>Justina Bako</th>\n",
       "      <td>67</td>\n",
       "      <td>78</td>\n",
       "    </tr>\n",
       "    <tr>\n",
       "      <th>Grace Paul</th>\n",
       "      <td>56</td>\n",
       "      <td>69</td>\n",
       "    </tr>\n",
       "    <tr>\n",
       "      <th>Godiya Yunusa</th>\n",
       "      <td>58</td>\n",
       "      <td>70</td>\n",
       "    </tr>\n",
       "    <tr>\n",
       "      <th>Justina Bitrus</th>\n",
       "      <td>20</td>\n",
       "      <td>100</td>\n",
       "    </tr>\n",
       "  </tbody>\n",
       "</table>\n",
       "</div>"
      ],
      "text/plain": [
       "                Basic Science   Agric Science\n",
       "Amos Omofaiye              45              90\n",
       "Justina Bako               67              78\n",
       "Grace Paul                 56              69\n",
       "Godiya Yunusa              58              70\n",
       "Justina Bitrus             20             100"
      ]
     },
     "execution_count": 12,
     "metadata": {},
     "output_type": "execute_result"
    }
   ],
   "source": [
    "m"
   ]
  },
  {
   "cell_type": "markdown",
   "metadata": {},
   "source": [
    "## Project 3: Fun_infominer\n",
    ">\n",
    "> This programme interactively collects information from users and displays the information at the end of running."
   ]
  },
  {
   "cell_type": "code",
   "execution_count": null,
   "metadata": {},
   "outputs": [],
   "source": []
  }
 ],
 "metadata": {
  "kernelspec": {
   "display_name": "Python 3",
   "language": "python",
   "name": "python3"
  },
  "language_info": {
   "codemirror_mode": {
    "name": "ipython",
    "version": 3
   },
   "file_extension": ".py",
   "mimetype": "text/x-python",
   "name": "python",
   "nbconvert_exporter": "python",
   "pygments_lexer": "ipython3",
   "version": "3.7.6"
  }
 },
 "nbformat": 4,
 "nbformat_minor": 4
}
